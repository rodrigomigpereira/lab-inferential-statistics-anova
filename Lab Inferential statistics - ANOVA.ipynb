{
 "cells": [
  {
   "cell_type": "code",
   "execution_count": 3,
   "metadata": {},
   "outputs": [],
   "source": [
    "## Lab | Inferential statistics - ANOVA\n",
    "\n",
    "## Note: The following lab is divided in 2 sections which represent activities 3 and 4.\n",
    "\n",
    "## Part 1\n",
    "    ## In this activity, we will look at another example. Your task is to understand the problem and write down all the steps to set up ANOVA. After the next lesson, we will ask you to solve this problem using Python. Here are the steps that you would need to work on: - Null hypothesis - Alternate hypothesis - Level of significance - Test statistic - P-value - F table\n",
    "    ## Context\n",
    "    ##  Suppose you are working as an analyst in a microprocessor chip manufacturing plant. You have been given the task of analyzing a plasma etching process with respect to changing Power (in Watts) of the plasma beam. Data was collected and provided to you to conduct statistical analysis and check if changing the power of the plasma beam has any effect on the etching rate by the machine. You will conduct ANOVA and check if there is any difference in the mean etching rate for different levels of power. You can find the data anova_lab_data.xlsx file in the files_for_lab folder\n",
    "        ## State the null hypothesis\n",
    "        ## State the alternate hypothesis\n",
    "        ## What is the significance level\n",
    "        ## What are the degrees of freedom of model, error terms, and total DoF\n",
    "    ## Data was collected randomly and provided to you in the table as shown: link to the image - Data\n",
    "\n",
    "## Part 2\n",
    "    ## In this section, use Python to conduct ANOVA.\n",
    "    ## What conclusions can you draw from the experiment and why?"
   ]
  },
  {
   "cell_type": "code",
   "execution_count": 4,
   "metadata": {},
   "outputs": [],
   "source": [
    "import pandas as pd\n",
    "import scipy.stats as stats\n",
    "import seaborn as sns\n",
    "import matplotlib.pyplot as plt"
   ]
  },
  {
   "cell_type": "code",
   "execution_count": 5,
   "metadata": {},
   "outputs": [
    {
     "data": {
      "text/html": [
       "<div>\n",
       "<style scoped>\n",
       "    .dataframe tbody tr th:only-of-type {\n",
       "        vertical-align: middle;\n",
       "    }\n",
       "\n",
       "    .dataframe tbody tr th {\n",
       "        vertical-align: top;\n",
       "    }\n",
       "\n",
       "    .dataframe thead th {\n",
       "        text-align: right;\n",
       "    }\n",
       "</style>\n",
       "<table border=\"1\" class=\"dataframe\">\n",
       "  <thead>\n",
       "    <tr style=\"text-align: right;\">\n",
       "      <th></th>\n",
       "      <th>160 W</th>\n",
       "      <th>180 W</th>\n",
       "      <th>200 W</th>\n",
       "    </tr>\n",
       "  </thead>\n",
       "  <tbody>\n",
       "    <tr>\n",
       "      <th>0</th>\n",
       "      <td>5.43</td>\n",
       "      <td>6.24</td>\n",
       "      <td>8.79</td>\n",
       "    </tr>\n",
       "    <tr>\n",
       "      <th>1</th>\n",
       "      <td>5.71</td>\n",
       "      <td>6.71</td>\n",
       "      <td>9.20</td>\n",
       "    </tr>\n",
       "    <tr>\n",
       "      <th>2</th>\n",
       "      <td>6.22</td>\n",
       "      <td>5.98</td>\n",
       "      <td>7.90</td>\n",
       "    </tr>\n",
       "    <tr>\n",
       "      <th>3</th>\n",
       "      <td>6.01</td>\n",
       "      <td>5.66</td>\n",
       "      <td>8.15</td>\n",
       "    </tr>\n",
       "    <tr>\n",
       "      <th>4</th>\n",
       "      <td>5.59</td>\n",
       "      <td>6.60</td>\n",
       "      <td>7.55</td>\n",
       "    </tr>\n",
       "  </tbody>\n",
       "</table>\n",
       "</div>"
      ],
      "text/plain": [
       "   160 W  180 W  200 W\n",
       "0   5.43   6.24   8.79\n",
       "1   5.71   6.71   9.20\n",
       "2   6.22   5.98   7.90\n",
       "3   6.01   5.66   8.15\n",
       "4   5.59   6.60   7.55"
      ]
     },
     "execution_count": 5,
     "metadata": {},
     "output_type": "execute_result"
    }
   ],
   "source": [
    "file_path = r\"C:\\Users\\rainm\\Documents\\Rodrigo\\Code bootcamp\\Ironhack\\Material\\Labs\\doing the LABs - by Rodrigo Pereira\\anova_lab_data.xlsx\"\n",
    "df = pd.read_excel(file_path)\n",
    "\n",
    "# Stripping any leading/trailing spaces in column names\n",
    "df.columns = df.columns.str.strip()\n",
    "\n",
    "# Extracting etching rates based on power levels\n",
    "etching_rate_160W = df[df['Power'] == '160 W']['Etching Rate'].values\n",
    "etching_rate_180W = df[df['Power'] == '180 W']['Etching Rate'].values\n",
    "etching_rate_200W = df[df['Power'] == '200 W']['Etching Rate'].values\n",
    "\n",
    "# Creating a new dataframe for ANOVA\n",
    "df_reshaped = pd.DataFrame({\n",
    "    '160 W': etching_rate_160W,\n",
    "    '180 W': etching_rate_180W,\n",
    "    '200 W': etching_rate_200W\n",
    "})\n",
    "\n",
    "# Display the data\n",
    "df_reshaped"
   ]
  },
  {
   "cell_type": "code",
   "execution_count": 6,
   "metadata": {},
   "outputs": [
    {
     "name": "stdout",
     "output_type": "stream",
     "text": [
      "ANOVA F-statistic: 36.87895470100505\n",
      "ANOVA p-value: 7.506584272358903e-06\n",
      "ANOVA dof_model: 2\n",
      "ANOVA dof_error: 12\n",
      "ANOVA dof_total: 14\n"
     ]
    }
   ],
   "source": [
    "anova_result = stats.f_oneway(df_reshaped['160 W'], df_reshaped['180 W'], df_reshaped['200 W'])\n",
    "\n",
    "# Degrees of Freedom\n",
    "dof_model = 2\n",
    "dof_error = df_reshaped.size - df_reshaped.columns.size\n",
    "dof_total = dof_model + dof_error\n",
    "\n",
    "# F-statistic and p-value\n",
    "F_statistic = anova_result.statistic\n",
    "p_value = anova_result.pvalue\n",
    "\n",
    "print('ANOVA F-statistic:', F_statistic)\n",
    "print('ANOVA p-value:', p_value)\n",
    "print('ANOVA dof_model:', dof_model)\n",
    "print('ANOVA dof_error:', dof_error)\n",
    "print('ANOVA dof_total:', dof_total)"
   ]
  },
  {
   "cell_type": "code",
   "execution_count": 7,
   "metadata": {},
   "outputs": [
    {
     "name": "stderr",
     "output_type": "stream",
     "text": [
      "C:\\Users\\rainm\\AppData\\Local\\Temp\\ipykernel_20156\\2305179781.py:9: FutureWarning: \n",
      "\n",
      "Passing `palette` without assigning `hue` is deprecated and will be removed in v0.14.0. Assign the `x` variable to `hue` and set `legend=False` for the same effect.\n",
      "\n",
      "  sns.boxplot(x='Power', y='Etching Rate', data=df_melt, palette='Blues_r')\n"
     ]
    },
    {
     "data": {
      "image/png": "[encoded data removed]",
      "text/plain": [
       "<Figure size 1000x600 with 1 Axes>"
      ]
     },
     "metadata": {},
     "output_type": "display_data"
    }
   ],
   "source": [
    "# Dark theme for plots\n",
    "sns.set(style='darkgrid')\n",
    "plt.style.use('dark_background')\n",
    "\n",
    "# Reshaping the dataframe for visualization\n",
    "df_melt = df_reshaped.melt(var_name='Power', value_name='Etching Rate')\n",
    "\n",
    "plt.figure(figsize=(10, 6))\n",
    "sns.boxplot(x='Power', y='Etching Rate', data=df_melt, palette='Blues_r')\n",
    "plt.title('Etching Rate by Power Levels')\n",
    "plt.show()"
   ]
  },
  {
   "cell_type": "code",
   "execution_count": null,
   "metadata": {},
   "outputs": [],
   "source": []
  },
  {
   "cell_type": "code",
   "execution_count": null,
   "metadata": {},
   "outputs": [],
   "source": []
  },
  {
   "cell_type": "code",
   "execution_count": null,
   "metadata": {},
   "outputs": [],
   "source": []
  }
 ],
 "metadata": {
  "kernelspec": {
   "display_name": "Python 3",
   "language": "python",
   "name": "python3"
  },
  "language_info": {
   "codemirror_mode": {
    "name": "ipython",
    "version": 3
   },
   "file_extension": ".py",
   "mimetype": "text/x-python",
   "name": "python",
   "nbconvert_exporter": "python",
   "pygments_lexer": "ipython3",
   "version": "3.9.0"
  }
 },
 "nbformat": 4,
 "nbformat_minor": 2
}
